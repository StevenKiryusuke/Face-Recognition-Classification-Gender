{
  "nbformat": 4,
  "nbformat_minor": 0,
  "metadata": {
    "colab": {
      "provenance": []
    },
    "kernelspec": {
      "name": "python3",
      "display_name": "Python 3"
    },
    "language_info": {
      "name": "python"
    }
  },
  "cells": [
    {
      "cell_type": "code",
      "execution_count": null,
      "metadata": {
        "id": "T1IGh63IxXHO"
      },
      "outputs": [],
      "source": [
        "import os\n",
        "from PIL import Image\n",
        "import pandas as pd\n",
        "from sklearn.model_selection import train_test_split\n",
        "from sklearn.metrics import classification_report, confusion_matrix\n",
        "import torch\n",
        "from torch.utils.data import Dataset, DataLoader\n",
        "import torch.nn as nn\n",
        "import torch.optim as optim\n",
        "from torchvision import transforms\n",
        "from torchvision.models import resnet50  # or vgg\n",
        "import matplotlib.pyplot as plt"
      ]
    },
    {
      "cell_type": "code",
      "source": [
        "data_path = '/content/drive/MyDrive/FaceRecognition/Dataset'\n",
        "from google.colab import drive\n",
        "drive.mount('/content/drive')\n",
        "os.listdir(data_path)"
      ],
      "metadata": {
        "id": "Q4o0vv4Mxgsu"
      },
      "execution_count": null,
      "outputs": []
    },
    {
      "cell_type": "code",
      "source": [
        "if os.path.exists(data_path):\n",
        "  print(f\"Directory found: {data_path}\")\n",
        "  os.listdir(data_path)\n",
        "else:\n",
        "  print(f\"Directory not found: {data_path}\")"
      ],
      "metadata": {
        "id": "BG3Rbqdhxhat"
      },
      "execution_count": null,
      "outputs": []
    },
    {
      "cell_type": "code",
      "source": [
        "import os\n",
        "import pandas as pd\n",
        "from PIL import Image\n",
        "from torch.utils.data import Dataset, DataLoader\n",
        "from torchvision import transforms\n",
        "# Path ke dataset utama\n",
        "data_path = '/content/drive/MyDrive/FaceRecognition/Dataset'\n",
        "image_folder = os.path.join(data_path, 'Images')\n",
        "# Load CSV dan TXT\n",
        "gender_csv = os.path.join(data_path, 'gender_classification.csv')\n",
        "identity_txt = os.path.join(data_path, 'class_identity.txt')\n",
        "identity_df = pd.read_csv(identity_txt, sep=' ', header=None, names=['image_filename', 'identity'])\n",
        "gender_df = pd.read_csv(gender_csv)\n",
        "gender_df['gender'] = gender_df['Male'].map({1: 1, 0: 0})\n",
        "# Validasi file gambar yang memang ada\n",
        "valid_files = set(os.listdir(image_folder))\n",
        "identity_df = identity_df[identity_df['image_filename'].isin(valid_files)].reset_index(drop=True)\n",
        "# format filename dibuat konsisten soalnya file class_identity.txt sama image_filename\n",
        "# dlm folder gak sama, kemungkinan tanpa padding\n",
        "min_len = min(len(identity_df), len(gender_df))\n",
        "identity_df['image_filename'] = identity_df['image_filename'].apply(lambda x: f\"{int(x.split('.')[0]):06}.jpg\")\n",
        "gender_df = gender_df.iloc[:min_len].reset_index(drop=True)\n",
        "combined_df = identity_df.copy()\n",
        "combined_df['gender'] = gender_df['gender']\n",
        "## --- Apply robust filtering *before* the split --\n",
        "#drop baris yg gendernya NaN\n",
        "combined_df = combined_df.dropna(subset=['gender'])"
      ],
      "metadata": {
        "id": "YqMST61NxpG-"
      },
      "execution_count": null,
      "outputs": []
    },
    {
      "cell_type": "code",
      "source": [
        "##combined_df = pd.merge(identity_df, gender_df[['image_filename', 'gender']], on='image_filename', how='inner')\n",
        "## kalo pake coding ini tanpa bawahnya akan error karena PyTorch CrossEntropyLoss() butuh angka, bukan string.\n",
        "#supaya gendernya dalam bentuk angka (0 atau 1)\n",
        "combined_df = combined_df[combined_df['gender'].isin([0, 1])].reset_index(drop=True)\n",
        "# Convert ke int\n",
        "combined_df['gender'] = combined_df['gender'].astype(int)\n",
        "## --- End of robust filtering --\n",
        "print(\"Cleaned Combined DF:\", combined_df.shape)\n",
        "# Cek hasil\n",
        "print(identity_df.head())\n",
        "print(identity_df.shape)\n",
        "print(combined_df)\n",
        "## note: buat liat semua combined_df pake print(combined_df)\n",
        "## buat filter spesifik file pake combined_df.loc[combined_df['image_filename'].isin([...])]\n",
        "## buat filter dengan condition (misal gender=male) pake combined_df.loc[combined_df['gender'] == 'Male']"
      ],
      "metadata": {
        "id": "CPZyz1Ygx4-I"
      },
      "execution_count": null,
      "outputs": []
    },
    {
      "cell_type": "code",
      "source": [
        "# buat cek data adalah label biner (1 untuk Male, 0 untuk Female), dan emang cuma ada 1 kolom 'Male'.\n",
        "# trus ditambahin\n",
        "# gender_df['image_filename'] = gender_df.index.map(lambda x: f\"{x+1:06}.jpg\")\n",
        "# gender_df['gender'] = gender_df['Male'].map({1: 'Male', 0: 'Female'})\n",
        "# supaya bisa merge dengan identity_df. --> buat sambungin label ke filename yang benar\n",
        "# buat balikin ke asal bisa pake\n",
        "# original_gender_df = pd.read_csv(gender_csv)\n",
        "# print(original_gender_df.head())\n",
        "print(gender_df.columns)\n",
        "print(gender_df.head())"
      ],
      "metadata": {
        "id": "uy6VLue0yB_O"
      },
      "execution_count": null,
      "outputs": []
    },
    {
      "cell_type": "code",
      "source": [
        "# split the data into train and test sets with a 80:20 ratio\n",
        "from sklearn.model_selection import train_test_split\n",
        "train_df, val_df = train_test_split(combined_df, test_size=0.2, random_state=42)\n",
        "from torchvision import transforms\n",
        "data_transforms = {\n",
        "    'train': transforms.Compose([\n",
        "        transforms.Resize((224, 224)),\n",
        "        transforms.RandomHorizontalFlip(),\n",
        "        transforms.ToTensor(),\n",
        "    ]),\n",
        "    'val': transforms.Compose([\n",
        "        transforms.Resize((224, 224)),\n",
        "        transforms.ToTensor(),\n",
        "    ])\n",
        "}"
      ],
      "metadata": {
        "id": "djFUdvagyHYB"
      },
      "execution_count": null,
      "outputs": []
    },
    {
      "cell_type": "code",
      "source": [
        "# Define the custom dataset class\n",
        "class GenderDataset(Dataset):\n",
        "    def __init__(self, dataframe, image_folder_path, transform=None):\n",
        "        self.dataframe = dataframe\n",
        "        self.image_folder_path = image_folder_path\n",
        "        self.transform = transform\n",
        "    def __len__(self):\n",
        "        return len(self.dataframe)\n",
        "    def __getitem__(self, idx):\n",
        "        img_name = os.path.join(self.image_folder_path, self.dataframe.iloc[idx, 0])\n",
        "        image = Image.open(img_name).convert('RGB')\n",
        "        label = int(self.dataframe.iloc[idx, 2]) # Assuming 'gender' is the third column (index 2)\n",
        "        if self.transform:\n",
        "            image = self.transform(image)\n",
        "        return image, label\n",
        "# Use the defined GenderDataset class instead of the undefined FaceDataset\n",
        "train_dataset = GenderDataset(train_df, image_folder, transform=data_transforms['train'])\n",
        "val_dataset = GenderDataset(val_df, image_folder, transform=data_transforms['val'])\n",
        "train_loader = DataLoader(train_dataset, batch_size=32, shuffle=True)\n",
        "val_loader = DataLoader(val_dataset, batch_size=32, shuffle=False)\n",
        "dataloaders = {'train': train_loader, 'val': val_loader}\n",
        "dataset_sizes = {'train': len(train_dataset), 'val': len(val_dataset)}\n",
        "# buat ganti semua gambar jadi format yg diproses model pytorch\n",
        "transform = transforms.Compose([\n",
        "    transforms.Resize((224, 224)),\n",
        "    transforms.ToTensor(),           # ubah pil.image (RGB) jadi tensor dengan shape [3,224,224] inget BGR!!!\n",
        "    transforms.Normalize(mean=[0.485, 0.456, 0.406],\n",
        "                         std=[0.229, 0.224, 0.225])\n",
        "])\n",
        "image_folder_path = os.path.join(data_path, 'Images')\n",
        "# Buat objek Dataset\n",
        "if not train_df.empty:\n",
        "    train_dataset = GenderDataset(train_df, image_folder_path=image_folder_path, transform=transform)\n",
        "else:\n",
        "    print(\"Warning: train_df is empty after splitting and filtering. train_dataset will be empty.\")\n",
        "    train_dataset = GenderDataset(pd.DataFrame(columns=train_df.columns), image_folder_path=image_folder_path, transform=transform) # Cr\n",
        "if not val_df.empty:\n",
        "    val_dataset = GenderDataset(val_df, image_folder_path=image_folder_path, transform=transform)\n",
        "else:\n",
        "     print(\"Warning: val_df is empty after splitting and filtering. val_dataset will be empty.\")\n",
        "     val_dataset = GenderDataset(pd.DataFrame(columns=val_df.columns), image_folder_path=image_folder_path, transform=transform) # Creat\n",
        "## note: pakai os.path.join(data_path, \"images\") bukan data_path+ '/Images' karena lbh robust & lintas platform\n",
        "# Buat DataLoader\n",
        "if len(train_dataset) > 0:\n",
        "    train_loader = DataLoader(train_dataset, batch_size=32, shuffle=True, num_workers=2)\n",
        "else:\n",
        "    print(\"Warning: train_dataset is empty. train_loader will not be created.\")\n",
        "    train_loader = None # Or handle this case appropriately\n",
        "if len(val_dataset) > 0:\n",
        "    val_loader = DataLoader(val_dataset, batch_size=32, shuffle=False, num_workers=2)\n",
        "else:\n",
        "    print(\"Warning: val_dataset is empty. val_loader will not be created.\")\n",
        "    val_loader = None # Or handle this case appropriately\n",
        "## note: numworkers buat mengaktifkan multiprocessing saat loading data, buat loading data lebih cepet, terutama kalo transform file IO\n",
        "## Boleh disesuaikan: num_workers=0 (debug mode), atau num_workers=os.cpu_count() untuk maksimal\n",
        "# Loader dictionary\n",
        "dataloaders = {\n",
        "    'train': train_loader,\n",
        "    'val': val_loader\n",
        "}\n",
        "# Dataset size dictionary\n",
        "\n",
        "dataset_sizes = {\n",
        "    'train': len(train_dataset),\n",
        "    'val': len(val_dataset)\n",
        "}\n",
        "transform = transforms.Compose([\n",
        "    transforms.RandomHorizontalFlip(),  #Melakukan flipping gambar secara horizontal secara acak saat training.\n",
        "    transforms.Resize(224),\n",
        "    transforms.ToTensor(), #Mengubah gambar dari PIL.Image ke format tensor PyTorch.\n",
        "    transforms.Normalize(mean=[0.485, 0.456, 0.406],  # pakai mean & std dari ImageNet\n",
        "                     std=[0.229, 0.224, 0.225])\n",
        "])\n",
        "\n",
        "import torch\n",
        "use_gpu = torch.cuda.is_available()\n",
        "print(f\"Using GPU: {use_gpu}\")dataset_sizes = {\n",
        "    'train': len(train_dataset),\n",
        "    'val': len(val_dataset)\n",
        "}\n",
        "transform = transforms.Compose([\n",
        "    transforms.RandomHorizontalFlip(),  #Melakukan flipping gambar secara horizontal secara acak saat training.\n",
        "    transforms.Resize(224),\n",
        "    transforms.ToTensor(), #Mengubah gambar dari PIL.Image ke format tensor PyTorch.\n",
        "    transforms.Normalize(mean=[0.485, 0.456, 0.406],  # pakai mean & std dari ImageNet\n",
        "                     std=[0.229, 0.224, 0.225])\n",
        "])\n",
        "\n",
        "import torch\n",
        "use_gpu = torch.cuda.is_available()\n",
        "print(f\"Using GPU: {use_gpu}\")"
      ],
      "metadata": {
        "id": "yJZ4F0yCyN4h"
      },
      "execution_count": null,
      "outputs": []
    },
    {
      "cell_type": "code",
      "source": [
        "print(dataset_sizes)"
      ],
      "metadata": {
        "id": "yQ-XAmQbytBK"
      },
      "execution_count": null,
      "outputs": []
    },
    {
      "cell_type": "code",
      "source": [
        "# DEFINE MODEL OPTMIZER DAN CRITERION (LOSS FUNCTION)\n",
        "import torchvision.models as models\n",
        "import torch.nn as nn\n",
        "import torch.optim as optim\n",
        "import torch\n",
        "device = torch.device(\"cuda\" if torch.cuda.is_available() else \"cpu\")\n",
        "model_ft = models.resnet50(pretrained=True)# load pretrained resnet\n",
        "num_ftrs = model_ft.fc.in_features\n",
        "model_ft.fc = nn.Linear(num_ftrs, 2)\n",
        "model_ft = model_ft.to(device)\n",
        "#model_ft = model_ft.float()\n",
        "criterion = nn.CrossEntropyLoss()           # defining loss function\n",
        "optimizer_ft = optim.Adam(model_ft.parameters(), lr=0.0001)"
      ],
      "metadata": {
        "id": "YT3OF9w4ywZV"
      },
      "execution_count": null,
      "outputs": []
    },
    {
      "cell_type": "code",
      "source": [
        "import torchvision.utils\n",
        "import numpy as np\n",
        "import matplotlib.pyplot as plt\n",
        "\n",
        "def imshow(inp, title=None):\n",
        "    \"\"\"Imshow for Tensor.\"\"\"\n",
        "    inp = inp.numpy().transpose((1, 2, 0))\n",
        "    mean = np.array([0.485, 0.456, 0.406])\n",
        "    std = np.array([0.229, 0.224, 0.225])\n",
        "    inp = std * inp + mean\n",
        "    inp = np.clip(inp, 0, 1)\n",
        "    plt.imshow(inp)\n",
        "    if title is not None:\n",
        "        plt.title(title)\n",
        "    plt.pause(0.001)  # pause a bit so that plots are updated\n",
        " # Get a batch of training data\n",
        " # Corrected the variable name from 'dataloders' to 'dataloaders'\n",
        "inputs, classes = next(iter(dataloaders['train']))\n",
        " # Make a grid from batch\n",
        "out = torchvision.utils.make_grid(inputs)"
      ],
      "metadata": {
        "id": "xq0BdXMjy3HM"
      },
      "execution_count": null,
      "outputs": []
    },
    {
      "cell_type": "code",
      "source": [
        "class_names = ['Female', 'Male'] # Assuming 0 corresponds to Female and 1 to Male\n",
        "imshow(out, title=[class_names[x] for x in classes])"
      ],
      "metadata": {
        "id": "Oijy1sXKy9n3"
      },
      "execution_count": null,
      "outputs": []
    },
    {
      "cell_type": "code",
      "source": [
        "#BUAT FUNGSI TRAIN_MODEL(...)\n",
        "import time\n",
        "from torch.autograd import Variable\n",
        "import torch\n",
        "\n",
        "def train_model(model, dataloaders, dataset_sizes, criterion, optimizer, use_gpu=True, num_epochs=10):\n",
        "    device = torch.device(\"cuda\" if torch.cuda.is_available() else \"cpu\")\n",
        "    print(\"Using device:\", device)\n",
        "    model = model.to(device)\n",
        "    train_acc_list = []\n",
        "    val_acc_list = []\n",
        "    #buat full loop training\n",
        "    for epoch in range(num_epochs):\n",
        "        print(f\"\\nEpoch {epoch+1}/{num_epochs}\")\n",
        "        print(\"-\" * 20)\n",
        "        for phase in ['train', 'val']:\n",
        "            if dataloaders[phase] is None or dataset_sizes[phase] == 0:\n",
        "                 print(f\"Skipping phase '{phase}' as dataloader is empty or None.\")\n",
        "                 continue\n",
        "            if phase == 'train':\n",
        "                model.train()\n",
        "            else:\n",
        "                model.eval()  #Loop kedua: bedain fase training dan validasi.\n",
        "            running_loss = 0.0 #Variabel untuk menyimpan total loss dan jumlah prediksi benar per epoch.\n",
        "            correct = 0\n",
        "            for batch_data in dataloaders[phase]:\n",
        "                inputs, labels = batch_data\n",
        "                if inputs is None or labels is None:\n",
        "                    print(f\"Warning: Skipping a batch with None values in {phase} phase.\")\n",
        "                    continue # Skip this batch if it contains None values\n",
        "                inputs, labels = inputs.to(device), labels.to(device)\n",
        "                optimizer.zero_grad()  #buat reset gradien dari batch sebelumnya\n",
        "                with torch.set_grad_enabled(phase == 'train'): #nyalain gradien pas training aja, bukan val\n",
        "                    outputs = model(inputs)   #forward pass --> hasil dari prediksi model\n",
        "                    loss = criterion(outputs, labels) #hitung selisih prediksi vs label\n",
        "                    _, preds = torch.max(outputs, 1) #ambil prediksi skor tertinggi untuk klasiifikasi\n",
        "                    if phase == 'train':\n",
        "                        loss.backward() #buat hitung gradien\n",
        "                        optimizer.step() #update bobot model sesuai gradien\n",
        "                running_loss += loss.item() * inputs.size(0)  #Tambah loss batch ke running_loss.\n",
        "                correct += torch.sum(preds == labels.data) #hitung brp prediksi benar dan tmbh ke correct\n",
        "            #hitung loss rata2 dan akurasi buat semua data di fase train/val\n",
        "            if dataset_sizes[phase] > 0:\n",
        "              epoch_loss = running_loss / dataset_sizes[phase]\n",
        "              epoch_acc = correct.double() / dataset_sizes[phase]\n",
        "            else:\n",
        "              epoch_loss = 0.0\n",
        "              epoch_acc = 0.0\n",
        "            if phase == 'train':\n",
        "              train_acc_list.append(round(epoch_acc.item() * 100, 1))\n",
        "            else:\n",
        "              val_acc_list.append(round(epoch_acc.item() * 100, 1))\n",
        "\n",
        "               #tampilkan hasil loss & akurasi di console.\n",
        "            print(f\"{phase.capitalize()} Loss: {epoch_loss:.4f} Acc: {epoch_acc:.4f}\")\n",
        "            if phase == 'train':\n",
        "              train_acc_list.append(round(epoch_acc.item() * 100, 1))\n",
        "            else:\n",
        "              val_acc_list.append(round(epoch_acc.item() * 100, 1))\n",
        "    print(\"\\ntrain_acc =\", train_acc_list)\n",
        "    print(\"test_acc  =\", val_acc_list)\n",
        "    return model"
      ],
      "metadata": {
        "id": "sb9Q-_nKzBpu"
      },
      "execution_count": null,
      "outputs": []
    },
    {
      "cell_type": "code",
      "source": [
        "# Buang semua baris dengan NaN\n",
        "combined_df = combined_df.dropna(subset=['gender'])\n",
        "# Pastikan hanya angka 0 atau 1\n",
        "combined_df = combined_df[combined_df['gender'].isin([0, 1])]\n",
        "combined_df['gender'] = combined_df['gender'].astype(int)\n",
        "# Reset index\n",
        "combined_df = combined_df.reset_index(drop=True)\n",
        "print(\"Cleaned Combined DF:\", combined_df.shape)"
      ],
      "metadata": {
        "id": "hGcjsp_UzMe3"
      },
      "execution_count": null,
      "outputs": []
    },
    {
      "cell_type": "code",
      "source": [
        "#DEFINE FUNGSI TRAIN\n",
        "model_ft = train_model(model_ft, dataloaders, dataset_sizes, criterion, optimizer_ft,num_epochs=10)"
      ],
      "metadata": {
        "id": "glHfVQZnzRUd"
      },
      "execution_count": null,
      "outputs": []
    },
    {
      "cell_type": "code",
      "source": [
        "matched_files = set(identity_df['image_filename']) & set(os.listdir(image_folder))\n",
        "print(f\"Jumlah file yang match: {len(matched_files)}\")\n",
        "print(list(matched_files)[:10])"
      ],
      "metadata": {
        "id": "PryxoEf3zYPb"
      },
      "execution_count": null,
      "outputs": []
    },
    {
      "cell_type": "code",
      "source": [
        "import random\n",
        "import os\n",
        "from PIL import Image\n",
        "import matplotlib.pyplot as plt\n",
        "import torch\n",
        "from torchvision import transforms\n",
        "# Set path ke folder gambar\n",
        "image_folder = os.path.join(data_path, 'Images')\n",
        "# Ambil 1 file random dari folder\n",
        "random_image_name = random.choice(os.listdir(image_folder))\n",
        "image_path = os.path.join(image_folder, random_image_name)\n",
        "# Transformasi harus sama dengan yang dipakai waktu training\n",
        "transform = transforms.Compose([\n",
        "    transforms.Resize((224, 224)),\n",
        "    transforms.ToTensor(),\n",
        "    transforms.Normalize(mean=[0.485, 0.456, 0.406],\n",
        "                         std=[0.229, 0.224, 0.225])\n",
        "])\n",
        "# Load gambar dan apply transform\n",
        "image = Image.open(image_path).convert('RGB')\n",
        "input_tensor = transform(image).unsqueeze(0).to(device)  # tambah batch dimensi dan kirim ke device\n",
        "# Prediksi\n",
        "model_ft.eval()  # pastikan model dalam mode eval\n",
        "with torch.no_grad():\n",
        "    output = model_ft(input_tensor)\n",
        "    _, pred = torch.max(output, 1)\n",
        " # Tampilkan hasil\n",
        "label_map = {0: 'Female', 1: 'Male'}\n",
        "predicted_label = label_map[pred.item()]\n",
        " # Show\n",
        "plt.imshow(image)\n",
        "plt.title(f'Predicted: {predicted_label}')\n",
        "plt.axis('off')\n",
        "plt.show()"
      ],
      "metadata": {
        "id": "BOVYsKR5zZih"
      },
      "execution_count": null,
      "outputs": []
    },
    {
      "cell_type": "code",
      "source": [
        "fig, axes = plt.subplots(2, 3, figsize=(12, 8))\n",
        "for i, ax in enumerate(axes.flat):\n",
        "   if i < len(combined_df):\n",
        "      row = combined_df.iloc[i]\n",
        "      img_path = os.path.join(image_folder, row['image_filename'])\n",
        "      image = Image.open(img_path)\n",
        "      gender_label = 'Male' if row['gender'] == 1 else 'Female'\n",
        "      ax.imshow(image)\n",
        "      ax.set_title(f\"Gender: {gender_label}\")\n",
        "      ax.axis('off')\n",
        "   else:\n",
        "      break\n",
        "plt.tight_layout()\n",
        "plt.show()"
      ],
      "metadata": {
        "id": "pwoDFWjuzlE3"
      },
      "execution_count": null,
      "outputs": []
    },
    {
      "cell_type": "code",
      "source": [
        "import matplotlib.pyplot as plt\n",
        "from torchvision import transforms\n",
        "from PIL import Image\n",
        "import torch\n",
        "import os\n",
        "import random\n",
        "# Define transform (sama seperti saat training)\n",
        "transform = transforms.Compose([\n",
        "    transforms.Resize((224, 224)),\n",
        "    transforms.ToTensor(),\n",
        "    transforms.Normalize(mean=[0.485, 0.456, 0.406],\n",
        "                         std=[0.229, 0.224, 0.225])\n",
        "])\n",
        " # Ambil 6 gambar acak dari folder\n",
        "sample_images = random.sample(os.listdir(image_folder_path), 6)"
      ],
      "metadata": {
        "id": "6vSHegJnzqt5"
      },
      "execution_count": null,
      "outputs": []
    },
    {
      "cell_type": "code",
      "source": [
        "# Siapkan gambar & tensor batch\n",
        "images = []\n",
        "original_images = []  # For displaying\n",
        "for filename in sample_images:\n",
        "    img_path = os.path.join(image_folder_path, filename)\n",
        "    image = Image.open(img_path).convert('RGB')\n",
        "    original_images.append(image)\n",
        "    images.append(transform(image))\n",
        "# Convert jadi batch tensor\n",
        "batch_tensor = torch.stack(images).to(device)\n",
        "# Set model ke eval\n",
        "model_ft.eval()\n",
        "# Inference (no grad)\n",
        "with torch.no_grad():\n",
        "    outputs = model_ft(batch_tensor)\n",
        "    probs = torch.softmax(outputs, dim=1)\n",
        "    top_probs, top_classes = probs.topk(2, dim=1)\n",
        " # Tampilkan gambar dan top-5 prediksi\n",
        "fig, axes = plt.subplots(2, 3, figsize=(15, 10))\n",
        "for i, ax in enumerate(axes.flat):\n",
        "    if i < len(original_images):\n",
        "        ax.imshow(original_images[i])\n",
        "        top_preds = top_classes[i].cpu().numpy()\n",
        "        top_scores = top_probs[i].cpu().numpy()\n",
        "        label_text = '\\n'.join([f'{int(cls)}: {score:.2f}' for cls, score in zip(top_preds, top_scores)])\n",
        "        ax.set_title(f\"Top-5:\\n{label_text}\")\n",
        "        ax.axis('off')\n",
        "plt.tight_layout()\n",
        "plt.show()"
      ],
      "metadata": {
        "id": "9UtwUCV0zy1S"
      },
      "execution_count": null,
      "outputs": []
    }
  ]
}